{
  "nbformat": 4,
  "nbformat_minor": 0,
  "metadata": {
    "colab": {
      "provenance": []
    },
    "kernelspec": {
      "name": "python3",
      "display_name": "Python 3"
    },
    "language_info": {
      "name": "python"
    }
  },
  "cells": [
    {
      "cell_type": "markdown",
      "source": [
        "# Para a=0 e b=0"
      ],
      "metadata": {
        "id": "iTbovwAqCpLq"
      }
    },
    {
      "cell_type": "markdown",
      "source": [],
      "metadata": {
        "id": "uIJDFveYDYuv"
      }
    },
    {
      "cell_type": "code",
      "execution_count": null,
      "metadata": {
        "id": "LSQhooJ2dsnR",
        "outputId": "bee5224e-1236-4f9c-c1b5-f4f76558fb9a",
        "colab": {
          "base_uri": "https://localhost:8080/"
        }
      },
      "outputs": [
        {
          "output_type": "stream",
          "name": "stdout",
          "text": [
            "n5 = 2\n",
            "n4 = 3\n",
            "n3 = 3\n",
            "n2 = 2\n",
            "n1 = 1\n"
          ]
        }
      ],
      "source": [
        "import sympy as sp\n",
        "\n",
        "# Definindo variáveis simbólicas\n",
        "a, b = sp.symbols(\"a b\")\n",
        "a=0;\n",
        "b=0;\n",
        "\n",
        "# Definindo as expressões\n",
        "n1 = sp.Max((-1 * a + 1 * b + 0), 0)\n",
        "n2 = sp.Max((1 * a - 1 * b + 2), 0)\n",
        "n3 = sp.Max((1 * n1 + 0 * n2 + 3), 0)\n",
        "n4 = sp.Max((1 * n2 - 2 * n1 + 1), 0)\n",
        "n5 = sp.Max((-1 * n3 + 2 * n4 - 1), 0)\n",
        "\n",
        "\n",
        "# Função para avaliar as expressões para valores de 'a' e 'b'\n",
        "def avaliar_expressoes(valor_a, valor_b):\n",
        "    resultado_n5 = n5.subs({a: valor_a, b: valor_b})\n",
        "    resultado_n4 = n4.subs({a: valor_a, b: valor_b})\n",
        "    resultado_n3 = n3.subs({a: valor_a, b: valor_b})\n",
        "    resultado_n2 = n2.subs({a: valor_a, b: valor_b})\n",
        "    resultado_n1 = n1.subs({a: valor_a, b: valor_b})\n",
        "\n",
        "    return resultado_n5, resultado_n4, resultado_n3, resultado_n2, resultado_n1\n",
        "\n",
        "\n",
        "# Avaliando as expressões para a=1 e b=2\n",
        "resultado = avaliar_expressoes(1, 1)\n",
        "\n",
        "# Exibindo os resultados\n",
        "print(f\"n5 = {resultado[0]}\")\n",
        "print(f\"n4 = {resultado[1]}\")\n",
        "print(f\"n3 = {resultado[2]}\")\n",
        "print(f\"n2 = {resultado[3]}\")\n",
        "print(f\"n1 = {resultado[4]}\")"
      ]
    },
    {
      "cell_type": "markdown",
      "source": [
        "# Para a=0 e b=1\n"
      ],
      "metadata": {
        "id": "iCO7VU_0DM9B"
      }
    },
    {
      "cell_type": "code",
      "source": [
        "import sympy as sp\n",
        "\n",
        "# Definindo variáveis simbólicas\n",
        "a, b = sp.symbols(\"a b\")\n",
        "a=0;\n",
        "b=1;\n",
        "\n",
        "# Definindo as expressões\n",
        "n1 = sp.Max((-1 * a + 1 * b + 0), 0)\n",
        "n2 = sp.Max((1 * a - 1 * b + 2), 0)\n",
        "n3 = sp.Max((1 * n1 + 0 * n2 + 3), 0)\n",
        "n4 = sp.Max((1 * n2 - 2 * n1 + 1), 0)\n",
        "n5 = sp.Max((-1 * n3 + 2 * n4 - 1), 0)\n",
        "\n",
        "\n",
        "# Função para avaliar as expressões para valores de 'a' e 'b'\n",
        "def avaliar_expressoes(valor_a, valor_b):\n",
        "    resultado_n5 = n5.subs({a: valor_a, b: valor_b})\n",
        "    resultado_n4 = n4.subs({a: valor_a, b: valor_b})\n",
        "    resultado_n3 = n3.subs({a: valor_a, b: valor_b})\n",
        "    resultado_n2 = n2.subs({a: valor_a, b: valor_b})\n",
        "    resultado_n1 = n1.subs({a: valor_a, b: valor_b})\n",
        "\n",
        "    return resultado_n5, resultado_n4, resultado_n3, resultado_n2, resultado_n1\n",
        "\n",
        "\n",
        "# Avaliando as expressões para a=1 e b=2\n",
        "resultado = avaliar_expressoes(1, 1)\n",
        "\n",
        "# Exibindo os resultados\n",
        "print(f\"n5 = {resultado[0]}\")\n",
        "print(f\"n4 = {resultado[1]}\")\n",
        "print(f\"n3 = {resultado[2]}\")\n",
        "print(f\"n2 = {resultado[3]}\")\n",
        "print(f\"n1 = {resultado[4]}\")"
      ],
      "metadata": {
        "colab": {
          "base_uri": "https://localhost:8080/"
        },
        "id": "T5iXrPHdDMFj",
        "outputId": "783e7b7a-88ce-4581-af66-8429235fbfaf"
      },
      "execution_count": null,
      "outputs": [
        {
          "output_type": "stream",
          "name": "stdout",
          "text": [
            "n5 = 1\n",
            "n4 = 1\n",
            "n3 = 4\n",
            "n2 = 1\n",
            "n1 = 1\n"
          ]
        }
      ]
    },
    {
      "cell_type": "markdown",
      "source": [
        "# Para a=1 e b=0\n"
      ],
      "metadata": {
        "id": "4ANaE-OXDaij"
      }
    },
    {
      "cell_type": "code",
      "source": [
        "import sympy as sp\n",
        "\n",
        "# Definindo variáveis simbólicas\n",
        "a, b = sp.symbols(\"a b\")\n",
        "a=1;\n",
        "b=0;\n",
        "\n",
        "# Definindo as expressões\n",
        "n1 = sp.Max((-1 * a + 1 * b + 0), 0)\n",
        "n2 = sp.Max((1 * a - 1 * b + 2), 0)\n",
        "n3 = sp.Max((1 * n1 + 0 * n2 + 3), 0)\n",
        "n4 = sp.Max((1 * n2 - 2 * n1 + 1), 0)\n",
        "n5 = sp.Max((-1 * n3 + 2 * n4 - 1), 0)\n",
        "\n",
        "\n",
        "# Função para avaliar as expressões para valores de 'a' e 'b'\n",
        "def avaliar_expressoes(valor_a, valor_b):\n",
        "    resultado_n5 = n5.subs({a: valor_a, b: valor_b})\n",
        "    resultado_n4 = n4.subs({a: valor_a, b: valor_b})\n",
        "    resultado_n3 = n3.subs({a: valor_a, b: valor_b})\n",
        "    resultado_n2 = n2.subs({a: valor_a, b: valor_b})\n",
        "    resultado_n1 = n1.subs({a: valor_a, b: valor_b})\n",
        "\n",
        "    return resultado_n5, resultado_n4, resultado_n3, resultado_n2, resultado_n1\n",
        "\n",
        "\n",
        "# Avaliando as expressões para a=1 e b=2\n",
        "resultado = avaliar_expressoes(1, 1)\n",
        "\n",
        "# Exibindo os resultados\n",
        "print(f\"n5 = {resultado[0]}\")\n",
        "print(f\"n4 = {resultado[1]}\")\n",
        "print(f\"n3 = {resultado[2]}\")\n",
        "print(f\"n2 = {resultado[3]}\")\n",
        "print(f\"n1 = {resultado[4]}\")"
      ],
      "metadata": {
        "colab": {
          "base_uri": "https://localhost:8080/"
        },
        "id": "9lpoEHoyDdlS",
        "outputId": "1b67b623-643e-43cd-9d39-71cb10a36b59"
      },
      "execution_count": null,
      "outputs": [
        {
          "output_type": "stream",
          "name": "stdout",
          "text": [
            "n5 = 4\n",
            "n4 = 4\n",
            "n3 = 3\n",
            "n2 = 3\n",
            "n1 = 1\n"
          ]
        }
      ]
    },
    {
      "cell_type": "markdown",
      "source": [
        "# Para a=1 e b=1\n",
        "\n",
        "\n"
      ],
      "metadata": {
        "id": "9vV9L9p0DqMJ"
      }
    },
    {
      "cell_type": "code",
      "source": [
        "import sympy as sp\n",
        "\n",
        "# Definindo variáveis simbólicas\n",
        "a, b = sp.symbols(\"a b\")\n",
        "a=1;\n",
        "b=1;\n",
        "\n",
        "# Definindo as expressões\n",
        "n1 = sp.Max((-1 * a + 1 * b + 0), 0)\n",
        "n2 = sp.Max((1 * a - 1 * b + 2), 0)\n",
        "n3 = sp.Max((1 * n1 + 0 * n2 + 3), 0)\n",
        "n4 = sp.Max((1 * n2 - 2 * n1 + 1), 0)\n",
        "n5 = sp.Max((-1 * n3 + 2 * n4 - 1), 0)\n",
        "\n",
        "\n",
        "# Função para avaliar as expressões para valores de 'a' e 'b'\n",
        "def avaliar_expressoes(valor_a, valor_b):\n",
        "    resultado_n5 = n5.subs({a: valor_a, b: valor_b})\n",
        "    resultado_n4 = n4.subs({a: valor_a, b: valor_b})\n",
        "    resultado_n3 = n3.subs({a: valor_a, b: valor_b})\n",
        "    resultado_n2 = n2.subs({a: valor_a, b: valor_b})\n",
        "    resultado_n1 = n1.subs({a: valor_a, b: valor_b})\n",
        "\n",
        "    return resultado_n5, resultado_n4, resultado_n3, resultado_n2, resultado_n1\n",
        "\n",
        "\n",
        "# Avaliando as expressões para a=1 e b=2\n",
        "resultado = avaliar_expressoes(1, 1)\n",
        "\n",
        "# Exibindo os resultados\n",
        "print(f\"n5 = {resultado[0]}\")\n",
        "print(f\"n4 = {resultado[1]}\")\n",
        "print(f\"n3 = {resultado[2]}\")\n",
        "print(f\"n2 = {resultado[3]}\")\n",
        "print(f\"n1 = {resultado[4]}\")"
      ],
      "metadata": {
        "colab": {
          "base_uri": "https://localhost:8080/"
        },
        "id": "_lD6B_1sDp0N",
        "outputId": "73eb5fe9-a118-4d50-eb79-18b408f42594"
      },
      "execution_count": null,
      "outputs": [
        {
          "output_type": "stream",
          "name": "stdout",
          "text": [
            "n5 = 2\n",
            "n4 = 3\n",
            "n3 = 3\n",
            "n2 = 2\n",
            "n1 = 0\n"
          ]
        }
      ]
    }
  ]
}